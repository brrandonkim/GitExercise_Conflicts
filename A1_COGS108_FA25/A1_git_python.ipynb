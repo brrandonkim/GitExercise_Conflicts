{
 "cells": [
  {
   "cell_type": "markdown",
   "metadata": {
    "deletable": false,
    "editable": false,
    "nbgrader": {
     "cell_type": "markdown",
     "checksum": "f95b92d66c040b7b0710d3321b515749",
     "grade": false,
     "grade_id": "header-1",
     "locked": true,
     "schema_version": 3,
     "solution": false
    }
   },
   "source": [
    "# COGS 108 - Assignment 1: Git & `pandas`\n",
    "\n",
    "This assignment covers git usage, the basics of data wrangling, and working with data in `pandas`. \n",
    "\n",
    "This assignment is out of 6 points, worth 6% of your grade.\n",
    "\n",
    "**PLEASE DO NOT CHANGE THE NAME OF THIS FILE.**\n",
    "\n",
    "**PLEASE DO NOT COPY & PASTE OR DELETE CELLS INCLUDED IN THE ASSIGNMENT.** (Note that you *can* add additional cells, if you want to test things out.)"
   ]
  },
  {
   "cell_type": "markdown",
   "metadata": {
    "deletable": false,
    "editable": false,
    "jp-MarkdownHeadingCollapsed": true,
    "nbgrader": {
     "cell_type": "markdown",
     "checksum": "92817b7b15666c4b48db94e8b5c646c4",
     "grade": false,
     "grade_id": "cell-076d94f60e5b8c08",
     "locked": true,
     "schema_version": 3,
     "solution": false
    }
   },
   "source": [
    "## How to complete assignments\n",
    "\n",
    "Whenever you see:\n",
    "\n",
    "```python\n",
    "# YOUR CODE HERE\n",
    "raise NotImplementedError()\n",
    "```\n",
    "\n",
    "You need to **replace (meaning: delete) these lines of code with some code that answers the questions** and meets the specified criteria. Make sure you remove the 'raise' line when you do this (or your notebook will raise an error, regardless of any other code, and thus fail the grading tests).\n",
    "\n",
    "You should write the answer to the questions in those cells (the ones with `# YOUR CODE HERE`), but you can also add extra cells to explore / investigate things if you need / want to. \n",
    "\n",
    "### How to Score Points\n",
    "\n",
    "Any cell with `assert` statements in it is a test cell. You should not try to change or delete these cells. Note that there might be more than one assert that tests a particular question, and there may be some additional hidden `assert` statements to test your code.\n",
    "\n",
    "Reading assert errors if and when they fail is a great way to debug your code and find out what went wrong.\n",
    "\n",
    "Note that some cells, including the test cells, may be read only, which means they won't let you edit them. If you cannot edit a cell - that is normal, and you shouldn't need to edit that cell.\n",
    "\n",
    "All outside packages/modules that will be used will be specified. You may not use other libraries in the assignments.\n",
    "\n",
    "Finally, note that questions have points as specified in the detailed instructions. "
   ]
  },
  {
   "cell_type": "markdown",
   "metadata": {
    "deletable": false,
    "editable": false,
    "nbgrader": {
     "cell_type": "markdown",
     "checksum": "e756780781d8b909958e5e622d4a25fb",
     "grade": false,
     "grade_id": "cell-85832509bdb1e4b1",
     "locked": true,
     "schema_version": 3,
     "solution": false,
     "task": false
    }
   },
   "source": [
    "## Part 1: Git and Github\n",
    "\n",
    "In D1, we learned how to make commits, create branches, and open pull requests. Now, we'll take the next step by learning how to handle situations that come up when working with others on shared code. \n",
    "\n",
    "Merge conflicts arise when two people make changes to the same part of a file -- Git needs your help to decide which version to keep. You will also learn how to review pull requests, an important part of effective collaboration on GitHub projects.\n",
    "\n",
    "In this section, we will go over common GitHub tasks. Complete the following tutorials: \n",
    "- [Review Pull Requests](https://github.com/skills/review-pull-requests)\n",
    "- [Resolve Merge Conflicts](https://github.com/skills/resolve-merge-conflicts)\n",
    "\n",
    "Open the links above and follow the instructions in the README repository.\n",
    "\n",
    "The GitHub Skills tutorials use a cool trick to walk you through the steps... every time you complete a task, it uses a GitHub Actions automation to trigger an update of the instructions in the README to show you the next thing you need to complete.\n",
    "\n",
    "**Some Important Notes** \n",
    "\n",
    "- Follow every step exactly as written in the GitHub Skills tutorial README.\n",
    "- **When starting the tutorial,click the green 'Start Course' button you can see in the README**. Do not use any other way to start the tutorial.  You will lose points if you do; and I'm not listing the other ways because somebody would accidentally think I was saying to use those methods.\n",
    "- When you press Start Course you will get a copy of the repo in your own GitHub repositories.  **KEEP THE DEFAULT REPO NAME!!**  The Skills repos we are doing will be by default called `skills-review-pull-requests` and `skills-resolve-merge-conflicts` in your GitHub.  If you rename your repo something else, you will lose points from the autograder.\n",
    "- What if you already did these skills tutorials last week/quarter/whatever?  If you already have a repo called `skills-review-pull-requests` in your GitHub you won't be allowed to create a new one with the same name.  If you feel comfortable with your skills just make sure the old copy of the tutorial actually was finished that time.  If you want to refresh your skills, delete your old copy of the repo from your GitHub and restart the tutorial.\n",
    "- The instructions in the README suggest you should open two windows on the your GitHub tutorial repo... one to keep the instructions visible to you and another to actually execute the steps.  This is very important... once you try to do something (commit, pull request, etc) you will be on a new webpage and the instructions disappear.  Its hard to keep all the steps in your head, so its crticial to have a 2nd window open with the instructions for when you need to double check things"
   ]
  },
  {
   "cell_type": "markdown",
   "metadata": {
    "deletable": false,
    "editable": false,
    "nbgrader": {
     "cell_type": "markdown",
     "checksum": "c99c623a5c22e5acce14c6ba8081d6d2",
     "grade": false,
     "grade_id": "cell-67f3660a83ee243d",
     "locked": true,
     "schema_version": 3,
     "solution": false,
     "task": false
    }
   },
   "source": [
    "### Q1 (1 point)\n",
    "\n",
    "Once you've completed the exercise, please provide us your Github username to validate the completion of the Github Skills Introduction. In the cell below, provide your Github username (not the email address you used to make your account) as a string in the variable github_username."
   ]
  },
  {
   "cell_type": "code",
   "execution_count": null,
   "metadata": {
    "deletable": false,
    "nbgrader": {
     "cell_type": "code",
     "checksum": "f8703eff63787bbfb474a320b20be768",
     "grade": false,
     "grade_id": "cell-4559f70354cbbe79",
     "locked": false,
     "schema_version": 3,
     "solution": true,
     "task": false
    }
   },
   "outputs": [],
   "source": [
    "# YOUR CODE HERE\n",
    "raise NotImplementedError()"
   ]
  },
  {
   "cell_type": "code",
   "execution_count": null,
   "metadata": {
    "deletable": false,
    "editable": false,
    "nbgrader": {
     "cell_type": "code",
     "checksum": "bc586e58a20fb5bd9f80f443228963ad",
     "grade": true,
     "grade_id": "cell-e4df724c7ced46e6",
     "locked": true,
     "points": 0,
     "schema_version": 3,
     "solution": false,
     "task": false
    }
   },
   "outputs": [],
   "source": [
    "# Autograder tests\n",
    "# If this cell executes with no output, you passed the tests!\n",
    "assert github_username, 'Github username is not entered'\n",
    "assert type(github_username) == str, 'Username is not a string variable'\n",
    "\n",
    "import requests\n",
    "url = 'https://github.com/' + github_username\n",
    "response = requests.get(url)\n",
    "assert response.status_code == 200"
   ]
  },
  {
   "cell_type": "code",
   "execution_count": null,
   "metadata": {
    "deletable": false,
    "editable": false,
    "nbgrader": {
     "cell_type": "code",
     "checksum": "50f821723269227cfe345d17d014f30b",
     "grade": true,
     "grade_id": "cell-75e562ea892caaaf",
     "locked": true,
     "points": 0.5,
     "schema_version": 3,
     "solution": false,
     "task": false
    }
   },
   "outputs": [],
   "source": [
    "# Do not edit this cell. This cell is for testing purposes"
   ]
  },
  {
   "cell_type": "code",
   "execution_count": null,
   "metadata": {
    "deletable": false,
    "editable": false,
    "nbgrader": {
     "cell_type": "code",
     "checksum": "2600071442694ae0eb786d9954f32fce",
     "grade": true,
     "grade_id": "cell-881e39752ea77110",
     "locked": true,
     "points": 0.5,
     "schema_version": 3,
     "solution": false,
     "task": false
    }
   },
   "outputs": [],
   "source": [
    "# Do not edit this cell. This cell is for testing purposes"
   ]
  },
  {
   "cell_type": "markdown",
   "metadata": {
    "deletable": false,
    "editable": false,
    "nbgrader": {
     "cell_type": "markdown",
     "checksum": "450ba86a2ccb62e3650782e5d8487f3c",
     "grade": false,
     "grade_id": "cell-3377ccd55f48f656",
     "locked": true,
     "schema_version": 3,
     "solution": false,
     "task": false
    }
   },
   "source": [
    "## Part 2: Merging Conflicts on DataHub (0.5 points)\n",
    "\n",
    "In this part of the assignment, you’ll get hands-on practice resolving merge conflicts in a Jupyter notebook.  \n",
    "\n",
    "\n",
    "You’ve already learned about merge conflicts conceptually and worked with them using GitHub in the previous Git skills activity. Now, we’ll extend that knowledge into the environment you’ll be using most often for your projects: Datahub.  This exercise will use the the Git GUI built in to Datahub\n",
    "\n",
    "Why this matters: merge conflicts are an unavoidable part of collaborative coding. Whether you’re working on a shared notebook, script, or dataset, it’s essential to understand how to identify, manage, and resolve conflicts safely. Merge conflicts are also more difficult to deal with in Jupyter notebooks than in regula text files.  This exercise will help you gain the confidence to do this in your project repos.\n",
    "\n",
    "Follow the instructions on this [repository](https://github.com/COGS108/GitExercise_Conflicts) to get started.\n",
    "\n",
    "BE ABSOLUTELY SURE you do ALL of the git operations in the tutorial  as instructed. If you don't make some changes requested, or choose a different set of changes you may lose points on the autograder\n"
   ]
  },
  {
   "cell_type": "code",
   "execution_count": null,
   "metadata": {
    "deletable": false,
    "editable": false,
    "nbgrader": {
     "cell_type": "code",
     "checksum": "c9e171036530e1eaf7c065600b456395",
     "grade": true,
     "grade_id": "cell-9a43850d2bb8bb55",
     "locked": true,
     "points": 0.5,
     "schema_version": 3,
     "solution": false,
     "task": false
    }
   },
   "outputs": [],
   "source": [
    "# Do not edit this cell. This cell is for testing purposes"
   ]
  },
  {
   "cell_type": "markdown",
   "metadata": {
    "deletable": false,
    "editable": false,
    "nbgrader": {
     "cell_type": "markdown",
     "checksum": "8fa059c4156ab32df99dfde582532dcd",
     "grade": false,
     "grade_id": "part3-instr",
     "locked": true,
     "schema_version": 3,
     "solution": false,
     "task": false
    }
   },
   "source": [
    "## Part 3: Pandas \n",
    "\n",
    "This part of the assignment is focused on some practice with data set manipulation with `pandas`. \n",
    "\n",
    "You will absolutely use `pandas` throughout this course, and, if you continue to use Python for working with data in the future, will continue to use this package. This means that while you could Google and look up every `pandas` function/method when doing assignments, it's best to memorize the basics. So, do your best to understand each operation you carry out here, as you'll almost certainly see it again. And, try to commit the most commonly-used functions/methods (those being presented here) to memory. It will save future you a ton of time. The more comfortable you are with `pandas`, the easier the rest of the assignments and your final project will be for you!\n",
    "\n",
    "Finally, there are a ton of great `pandas` resources and documentation out there, including [10 minutes to `pandas`](https://pandas.pydata.org/pandas-docs/stable/user_guide/10min.html). Feel free to use them! However, many of the examples in this assignment were inspired by `pandas` tips and tricks: https://www.dataschool.io/python-pandas-tips-and-tricks/. Feel free to check out all the additional tips and tricks there, many of which are *not* covered here. "
   ]
  },
  {
   "cell_type": "markdown",
   "metadata": {
    "deletable": false,
    "editable": false,
    "nbgrader": {
     "cell_type": "markdown",
     "checksum": "b16501ac752b671893ed469932d25c14",
     "grade": false,
     "grade_id": "cell-c709fdf6b13c7a64",
     "locked": true,
     "schema_version": 3,
     "solution": false,
     "task": false
    }
   },
   "source": [
    "### Q2: Import (0.25 points)\n",
    "\n",
    "Import the following packages using their common shortened name found in parentheses:\n",
    "\n",
    "- numpy (np)\n",
    "- pandas (pd)"
   ]
  },
  {
   "cell_type": "code",
   "execution_count": null,
   "metadata": {
    "deletable": false,
    "nbgrader": {
     "cell_type": "code",
     "checksum": "6bdd6d23d49ae78958576291592a6c0c",
     "grade": false,
     "grade_id": "cell-2792d95352c9d6d2",
     "locked": false,
     "schema_version": 3,
     "solution": true,
     "task": false
    }
   },
   "outputs": [],
   "source": [
    "# YOUR CODE HERE\n",
    "raise NotImplementedError()"
   ]
  },
  {
   "cell_type": "code",
   "execution_count": null,
   "metadata": {
    "deletable": false,
    "editable": false,
    "nbgrader": {
     "cell_type": "code",
     "checksum": "a6cfbe8b98af6f2c2726e838da188626",
     "grade": true,
     "grade_id": "cell-826f554fa0ea7fb9",
     "locked": true,
     "points": 0.25,
     "schema_version": 3,
     "solution": false,
     "task": false
    }
   },
   "outputs": [],
   "source": [
    "# Do not edit this cell. This cell is for testing purposes"
   ]
  },
  {
   "cell_type": "markdown",
   "metadata": {
    "deletable": false,
    "editable": false,
    "nbgrader": {
     "cell_type": "markdown",
     "checksum": "a9a61e09ab53063ad9d1d2313aa1005d",
     "grade": false,
     "grade_id": "cell-21dc1d3633940247",
     "locked": true,
     "schema_version": 3,
     "solution": false,
     "task": false
    }
   },
   "source": [
    "**Run the following cell code to make things throughout the rest of this workbook a little prettier.** (Note: You don't have to edit code here, but are free to and see what changes to be sure you understand each line.)"
   ]
  },
  {
   "cell_type": "code",
   "execution_count": null,
   "metadata": {
    "deletable": false,
    "editable": false,
    "nbgrader": {
     "cell_type": "code",
     "checksum": "86844c4c6ae20a91e59d5a81a4edaa11",
     "grade": false,
     "grade_id": "cell-6c141c4e937fceaa",
     "locked": true,
     "schema_version": 3,
     "solution": false,
     "task": false
    }
   },
   "outputs": [],
   "source": [
    "# Configure libraries\n",
    "\n",
    "# Don't display too many rows/cols of DataFrames\n",
    "pd.options.display.max_rows = 10\n",
    "pd.options.display.max_columns = 10\n",
    "\n",
    "# Round decimals when displaying DataFrames\n",
    "pd.set_option('display.precision', 2)"
   ]
  },
  {
   "cell_type": "markdown",
   "metadata": {
    "deletable": false,
    "editable": false,
    "nbgrader": {
     "cell_type": "markdown",
     "checksum": "da3ee693e88f2e9b20e3b0940f8c8780",
     "grade": false,
     "grade_id": "cell-b7a2b7bfb235ac87",
     "locked": true,
     "schema_version": 3,
     "solution": false,
     "task": false
    }
   },
   "source": [
    "### Q3: Read data into `pandas` (0.25 points)\n",
    "\n",
    "The `pandas` package has a number of helpful import functions (read_csv(), read_json(), read_html(), etc.)\n",
    "\n",
    "For this assignment we'll use a CSV file from [FiveThirtyEight](https://fivethirtyeight.com). The summarized data in the file we'll use here were used in the article [*The Ultimate Halloween Candy Power Ranking*](https://fivethirtyeight.com/features/the-ultimate-halloween-candy-power-ranking/). To collect these data, candies were pitted against one another with participants having to choose which they liked better.\n",
    "\n",
    "To use the data, you'll have to read it in as a Dataframe. Use the appropriate pandas import function to read in the file from the following repo: https://github.com/fivethirtyeight/data/tree/master/candy-power-ranking.\n",
    "\n",
    "Note that URLs can be read in directly using `pandas`. The URL you'll want to use to read the file in is: https://raw.githubusercontent.com/fivethirtyeight/data/master/candy-power-ranking/candy-data.csv. \n",
    "\n",
    "Store this in the variable `df`."
   ]
  },
  {
   "cell_type": "code",
   "execution_count": null,
   "metadata": {
    "deletable": false,
    "nbgrader": {
     "cell_type": "code",
     "checksum": "837f53ad9b74a535f0977e4545b491f2",
     "grade": false,
     "grade_id": "cell-72a17dfe01a43e26",
     "locked": false,
     "schema_version": 3,
     "solution": true,
     "task": false
    }
   },
   "outputs": [],
   "source": [
    "# YOUR CODE HERE\n",
    "raise NotImplementedError()"
   ]
  },
  {
   "cell_type": "code",
   "execution_count": null,
   "metadata": {
    "deletable": false,
    "editable": false,
    "nbgrader": {
     "cell_type": "code",
     "checksum": "0c51ec894e0596bb78aa6039b47a722b",
     "grade": true,
     "grade_id": "cell-e27e59a1e849e901",
     "locked": true,
     "points": 0.25,
     "schema_version": 3,
     "solution": false,
     "task": false
    }
   },
   "outputs": [],
   "source": [
    "assert isinstance(df, pd.DataFrame)\n",
    "assert df.shape == (85, 13)"
   ]
  },
  {
   "cell_type": "markdown",
   "metadata": {
    "deletable": false,
    "editable": false,
    "nbgrader": {
     "cell_type": "markdown",
     "checksum": "d0e21664666e6691bf9802b8744a6908",
     "grade": false,
     "grade_id": "cell-26942ba0dc0cc234",
     "locked": true,
     "schema_version": 3,
     "solution": false,
     "task": false
    }
   },
   "source": [
    "Let's get a sense of the information we have in our dataset"
   ]
  },
  {
   "cell_type": "code",
   "execution_count": null,
   "metadata": {
    "deletable": false,
    "editable": false,
    "nbgrader": {
     "cell_type": "code",
     "checksum": "5902a32631cbe4866aa7cf975053e3d6",
     "grade": false,
     "grade_id": "cell-5e7754f91dc3cc17",
     "locked": true,
     "schema_version": 3,
     "solution": false,
     "task": false
    }
   },
   "outputs": [],
   "source": [
    "# take a look at the information stored in df\n",
    "df"
   ]
  },
  {
   "cell_type": "markdown",
   "metadata": {
    "deletable": false,
    "editable": false,
    "nbgrader": {
     "cell_type": "markdown",
     "checksum": "13cc9c9161af34ee3124a1091e201bdf",
     "grade": false,
     "grade_id": "cell-3fd826cc129aadb7",
     "locked": true,
     "schema_version": 3,
     "solution": false,
     "task": false
    }
   },
   "source": [
    "A full description of these data can be found [here](https://github.com/fivethirtyeight/data/tree/master/candy-power-ranking). From that link, we'll include a description of each variable (column) here:\n",
    "\n",
    "Header | Description\n",
    "-------|------------\n",
    "chocolate | Does it contain chocolate?\n",
    "fruity | Is it fruit flavored?\n",
    "caramel | Is there caramel in the candy?\n",
    "peanutalmondy | Does it contain peanuts, peanut butter or almonds?\n",
    "nougat | Does it contain nougat?\n",
    "crispedricewafer | Does it contain crisped rice, wafers, or a cookie component?\n",
    "hard | Is it a hard candy?\n",
    "bar | Is it a candy bar?\n",
    "pluribus | Is it one of many candies in a bag or box?\n",
    "sugarpercent | The percentile of sugar it falls under within the data set.\n",
    "pricepercent | The unit price percentile compared to the rest of the set.\n",
    "winpercent | The overall win percentage according to 269,000 matchups.\n",
    "\n",
    "Note that many of the variables store binary information, where 0 means False and 1 means True. For example, for a Snickers bar, `chocolate` would have the value 1 (becuase it *is* chocolate), while `fruity` for the same candy would store 0 (because Snickers bars are *not* fruity)."
   ]
  },
  {
   "cell_type": "markdown",
   "metadata": {
    "deletable": false,
    "editable": false,
    "nbgrader": {
     "cell_type": "markdown",
     "checksum": "3bbcc1c0c572c404bfd5ea7e9b5cace7",
     "grade": false,
     "grade_id": "cell-6d0439624bd1dd8a",
     "locked": true,
     "schema_version": 3,
     "solution": false,
     "task": false
    }
   },
   "source": [
    "### Q4: Data Summary\n",
    "\n",
    "After reading in a dataset, it's often helpful to get a quick sense of what information is stored in the dataset. Here you'll carry out a number of operations that you'll carry out on almost every dataset you read into Python."
   ]
  },
  {
   "cell_type": "markdown",
   "metadata": {
    "deletable": false,
    "editable": false,
    "nbgrader": {
     "cell_type": "markdown",
     "checksum": "f21f9982b4bb2e53cfa8ae4224ad26e1",
     "grade": false,
     "grade_id": "cell-43394560b12d96c0",
     "locked": true,
     "schema_version": 3,
     "solution": false,
     "task": false
    }
   },
   "source": [
    "### Q4a: `shape` (0.25 points)\n",
    "One way to do that is to determine the `shape` of the dataset. This reports the number of rows and columns in the dataset. Store the shape of the candy dataset in the variable `candy_shape`."
   ]
  },
  {
   "cell_type": "code",
   "execution_count": null,
   "metadata": {
    "deletable": false,
    "nbgrader": {
     "cell_type": "code",
     "checksum": "5680ea4053c3895d3d48544291a7013e",
     "grade": false,
     "grade_id": "cell-897cb56135b5c5dd",
     "locked": false,
     "schema_version": 3,
     "solution": true,
     "task": false
    }
   },
   "outputs": [],
   "source": [
    "# YOUR CODE HERE\n",
    "raise NotImplementedError()"
   ]
  },
  {
   "cell_type": "code",
   "execution_count": null,
   "metadata": {
    "deletable": false,
    "editable": false,
    "nbgrader": {
     "cell_type": "code",
     "checksum": "ab7e82f66a2c661d041e4ec4a7327013",
     "grade": true,
     "grade_id": "cell-a5fcebda6222ba02",
     "locked": true,
     "points": 0.25,
     "schema_version": 3,
     "solution": false,
     "task": false
    }
   },
   "outputs": [],
   "source": [
    "# Do not edit this cell. This cell is for testing purposes"
   ]
  },
  {
   "cell_type": "markdown",
   "metadata": {
    "deletable": false,
    "editable": false,
    "nbgrader": {
     "cell_type": "markdown",
     "checksum": "37f81d20c7254f33776b14d5fce3784a",
     "grade": false,
     "grade_id": "cell-cf4c78e6a68413d8",
     "locked": true,
     "schema_version": 3,
     "solution": false,
     "task": false
    }
   },
   "source": [
    "### Q4b: `describe`\n",
    "\n",
    "`pandas` also has a very helfpul `describe` method which will provide some helpful summary statistics about your dataframe.\n",
    "\n",
    "Use the `describe` method to calculate and display these summary statistics (You do *not* have to store the output):"
   ]
  },
  {
   "cell_type": "code",
   "execution_count": null,
   "metadata": {
    "deletable": false,
    "nbgrader": {
     "cell_type": "code",
     "checksum": "5e297824aadd3f3246e728d943a82edc",
     "grade": false,
     "grade_id": "cell-a0e3c44a4d61378d",
     "locked": false,
     "schema_version": 3,
     "solution": true,
     "task": false
    }
   },
   "outputs": [],
   "source": [
    "# YOUR CODE HERE\n",
    "raise NotImplementedError()"
   ]
  },
  {
   "cell_type": "markdown",
   "metadata": {
    "deletable": false,
    "editable": false,
    "nbgrader": {
     "cell_type": "markdown",
     "checksum": "82f7d79c59308a08559a6291f62219e7",
     "grade": false,
     "grade_id": "cell-7359a8f46e48e120",
     "locked": true,
     "schema_version": 3,
     "solution": false,
     "task": false
    }
   },
   "source": [
    "### Q4c: `value_counts()` (0.25 points)\n",
    "\n",
    "Using the `value_counts()` method, determine how many different possible values there are for the `chocolate` series in the `df` DataFrame and how many observations fall into each. \n",
    "\n",
    "Store the output in the object `chocolate_values`.\n",
    "\n",
    "Take a look at the output. Be sure you understand whether or not there are more chocolate (`chocolate == 1`) or nonchocolate candies (`chocolate == 0`) in the dataset from the output."
   ]
  },
  {
   "cell_type": "code",
   "execution_count": null,
   "metadata": {
    "deletable": false,
    "nbgrader": {
     "cell_type": "code",
     "checksum": "5c408a783eaf2fbea65ce1068bf76c4c",
     "grade": false,
     "grade_id": "cell-c3bf78a0385d82cd",
     "locked": false,
     "schema_version": 3,
     "solution": true,
     "task": false
    }
   },
   "outputs": [],
   "source": [
    "# YOUR CODE HERE\n",
    "raise NotImplementedError()\n",
    "\n",
    "chocolate_values"
   ]
  },
  {
   "cell_type": "code",
   "execution_count": null,
   "metadata": {
    "deletable": false,
    "editable": false,
    "nbgrader": {
     "cell_type": "code",
     "checksum": "76f4fe9897b358f9798875281abb9214",
     "grade": true,
     "grade_id": "cell-0689de8258624ecf",
     "locked": true,
     "points": 0.25,
     "schema_version": 3,
     "solution": false,
     "task": false
    }
   },
   "outputs": [],
   "source": [
    "# Do not edit this cell. This cell is for testing purposes"
   ]
  },
  {
   "cell_type": "markdown",
   "metadata": {
    "deletable": false,
    "editable": false,
    "nbgrader": {
     "cell_type": "markdown",
     "checksum": "35c3a1480c3d25402b31ccaaba3b3d2a",
     "grade": false,
     "grade_id": "cell-88d118d3f3aa9481",
     "locked": true,
     "schema_version": 3,
     "solution": false,
     "task": false
    }
   },
   "source": [
    "### Missing Data\n",
    "\n",
    "There are a number of different ways in which to determine whether or not data are missing. The most common approaches are summarized here:\n",
    "\n",
    "```python\n",
    "# Calculate % of missing values in each column:\n",
    "df.isna().mean()\n",
    "\n",
    "# Drop columns with any missing values:\n",
    "df.dropna(axis='columns')\n",
    "\n",
    "# Drop columns in which more than 10% of values are missing:\n",
    "df.dropna(thresh=len(df)*0.9, axis='columns')\n",
    "\n",
    "# Want to know the *count* of missing values in a DataFrame?\n",
    "df.isna().sum().sum()\n",
    "\n",
    "# Just want to know if there are *any* missing values?\n",
    "df.isna().any().any()\n",
    "df.isna().any(axis=None)\n",
    "```\n",
    "\n",
    "Run the following cell and interpret the output:"
   ]
  },
  {
   "cell_type": "code",
   "execution_count": null,
   "metadata": {
    "deletable": false,
    "editable": false,
    "nbgrader": {
     "cell_type": "code",
     "checksum": "9cdd015e73768f25f1d343be44710b43",
     "grade": false,
     "grade_id": "cell-b7af3d1fa620c49e",
     "locked": true,
     "schema_version": 3,
     "solution": false,
     "task": false
    }
   },
   "outputs": [],
   "source": [
    "# determine which columns have missing data\n",
    "df.isna().any()"
   ]
  },
  {
   "cell_type": "markdown",
   "metadata": {
    "deletable": false,
    "editable": false,
    "nbgrader": {
     "cell_type": "markdown",
     "checksum": "69b3bdb52021ccbfa7d980f1d32668ec",
     "grade": false,
     "grade_id": "cell-1cc7ac579c633f68",
     "locked": true,
     "schema_version": 3,
     "solution": false,
     "task": false
    }
   },
   "source": [
    "### Q4d: isna() (0.50 points)\n",
    "How many variables have missing data in this dataset? Store the value in the variable var_missing:"
   ]
  },
  {
   "cell_type": "code",
   "execution_count": null,
   "metadata": {
    "deletable": false,
    "nbgrader": {
     "cell_type": "code",
     "checksum": "59cc8327eb403ef104112efec5b7823f",
     "grade": false,
     "grade_id": "cell-342b2367989d2634",
     "locked": false,
     "schema_version": 3,
     "solution": true,
     "task": false
    }
   },
   "outputs": [],
   "source": [
    "# YOUR CODE HERE\n",
    "raise NotImplementedError()"
   ]
  },
  {
   "cell_type": "code",
   "execution_count": null,
   "metadata": {
    "deletable": false,
    "editable": false,
    "nbgrader": {
     "cell_type": "code",
     "checksum": "ab706a8a36182820208cfcfff47d0cff",
     "grade": true,
     "grade_id": "cell-542821c0cb36ac33",
     "locked": true,
     "points": 0.25,
     "schema_version": 3,
     "solution": false,
     "task": false
    }
   },
   "outputs": [],
   "source": [
    "assert isinstance(var_missing, (np.int64, int))\n",
    "print(var_missing)"
   ]
  },
  {
   "cell_type": "markdown",
   "metadata": {
    "deletable": false,
    "editable": false,
    "nbgrader": {
     "cell_type": "markdown",
     "checksum": "cbccd0329af0361be9c99edec6bffcb4",
     "grade": false,
     "grade_id": "cell-c02bc994686afdd8",
     "locked": true,
     "schema_version": 3,
     "solution": false,
     "task": false
    }
   },
   "source": [
    "### Q5: `replace` (0.5 points)\n",
    "\n",
    "To replace current values with different values dynamically, `replace` is very helpful.\n",
    "\n",
    "To demonstrate this, if you wanted to replace the zeroes and ones in the current dataset with string values, you could do this using `replace`.  \n",
    "\n",
    "In `df`, replace `0` with `\"is not\"` and `1` with `\"is\"`.   NOTE: we are replacing integers with strings! \n",
    "\n",
    "Store this output in `df_string`.\n",
    "\n",
    "That is, where the current `df` is showing a 1 for 100 Grand in the chocolate column, the new `df_string` will show 100 Grand \"is\" chocolate in that same location."
   ]
  },
  {
   "cell_type": "code",
   "execution_count": null,
   "metadata": {
    "deletable": false,
    "nbgrader": {
     "cell_type": "code",
     "checksum": "0260da26a4e847071327502ebb937098",
     "grade": false,
     "grade_id": "cell-05cdaa62a575a340",
     "locked": false,
     "schema_version": 3,
     "solution": true,
     "task": false
    }
   },
   "outputs": [],
   "source": [
    "# YOUR CODE HERE\n",
    "raise NotImplementedError()"
   ]
  },
  {
   "cell_type": "code",
   "execution_count": null,
   "metadata": {
    "deletable": false,
    "editable": false,
    "nbgrader": {
     "cell_type": "code",
     "checksum": "d6f1ef55a9586a14b0f3ca8397d433ef",
     "grade": true,
     "grade_id": "cell-879057f9f448f7da",
     "locked": true,
     "points": 0.5,
     "schema_version": 3,
     "solution": false,
     "task": false
    }
   },
   "outputs": [],
   "source": [
    "assert df_string.shape == df.shape\n"
   ]
  },
  {
   "cell_type": "markdown",
   "metadata": {
    "deletable": false,
    "editable": false,
    "nbgrader": {
     "cell_type": "markdown",
     "checksum": "e272676d731f82be3e57ce9ff6b4ce76",
     "grade": false,
     "grade_id": "cell-b69ce4a6b2fc387c",
     "locked": true,
     "schema_version": 3,
     "solution": false,
     "task": false
    }
   },
   "source": [
    "## Q6: `groupby` (0.25 points)\n",
    "\n",
    "Group df by the candy’s chocolate status (0: is not, 1: is), and calculate the mean value of pricepercent for each group. Assign this to the dataframe 'df_grouped'. "
   ]
  },
  {
   "cell_type": "code",
   "execution_count": null,
   "metadata": {
    "deletable": false,
    "nbgrader": {
     "cell_type": "code",
     "checksum": "2a6e97d771090a97893692766eb508da",
     "grade": false,
     "grade_id": "cell-17fa4a9531ca2a88",
     "locked": false,
     "schema_version": 3,
     "solution": true,
     "task": false
    }
   },
   "outputs": [],
   "source": [
    "# YOUR CODE HERE\n",
    "raise NotImplementedError()"
   ]
  },
  {
   "cell_type": "code",
   "execution_count": null,
   "metadata": {
    "deletable": false,
    "editable": false,
    "nbgrader": {
     "cell_type": "code",
     "checksum": "82ff01e1415b698a2b2a040f85b4593d",
     "grade": true,
     "grade_id": "cell-aecf41787e90b8b4",
     "locked": true,
     "points": 0.25,
     "schema_version": 3,
     "solution": false,
     "task": false
    }
   },
   "outputs": [],
   "source": [
    "print(df_grouped)"
   ]
  },
  {
   "cell_type": "markdown",
   "metadata": {
    "deletable": false,
    "editable": false,
    "nbgrader": {
     "cell_type": "markdown",
     "checksum": "a209205efdd7db31df783f159153cc40",
     "grade": false,
     "grade_id": "cell-bc38b26f95177eae",
     "locked": true,
     "schema_version": 3,
     "solution": false,
     "task": false
    }
   },
   "source": [
    "### Q6a: Cost Interpretation (0.25 points)\n",
    "\n",
    "Looking at the output in the previous cell, which type of candy costs more, non-chocolate or chocolate candy? Store your response in `candy_cost`. For example, if you thought the answer was A, you would submit `candy_cost = 'A'`.\n",
    "\n",
    "- A) candy containing chocolate costs more\n",
    "- B) candy without chocolate costs more\n",
    "- C) candy without and containing chocolate cost the same"
   ]
  },
  {
   "cell_type": "code",
   "execution_count": null,
   "metadata": {
    "deletable": false,
    "nbgrader": {
     "cell_type": "code",
     "checksum": "4a84a014e2f187eeeb34978374fe9b7b",
     "grade": false,
     "grade_id": "cell-5cf8c0eb59ef30aa",
     "locked": false,
     "schema_version": 3,
     "solution": true,
     "task": false
    }
   },
   "outputs": [],
   "source": [
    "# YOUR CODE HERE\n",
    "raise NotImplementedError()"
   ]
  },
  {
   "cell_type": "code",
   "execution_count": null,
   "metadata": {
    "deletable": false,
    "editable": false,
    "nbgrader": {
     "cell_type": "code",
     "checksum": "9e3c20d10548154a3cf47aafa65327c3",
     "grade": true,
     "grade_id": "cell-7928c671100283b4",
     "locked": true,
     "points": 0.25,
     "schema_version": 3,
     "solution": false,
     "task": false
    }
   },
   "outputs": [],
   "source": [
    "assert isinstance(candy_cost, str)\n",
    "assert candy_cost in ['A', 'B', 'C']"
   ]
  },
  {
   "cell_type": "markdown",
   "metadata": {
    "deletable": false,
    "editable": false,
    "nbgrader": {
     "cell_type": "markdown",
     "checksum": "c369246a22aa9defd3d9d714820fc6df",
     "grade": false,
     "grade_id": "cell-61f8bd0a2c884f25",
     "locked": true,
     "schema_version": 3,
     "solution": false,
     "task": false
    }
   },
   "source": [
    "### Q6b: specific column aggregation (0.25 points)\n",
    "\n",
    "Carrying out a similar operation, group `df` by `fruity`, and then calculate the minimum, average (mean), and maximum values, **for the `sugarpercent` column only**. \n",
    "\n",
    "For this, fruity should be the name for the indices and your column names should be 'min', 'mean', and 'max'.\n",
    "\n",
    "Store this result in `sugar_summary`.\n",
    "\n",
    "#### Note: the `pandas` documentation [here](https://pandas.pydata.org/pandas-docs/version/0.22/generated/pandas.core.groupby.DataFrameGroupBy.agg.html) may help you if you're struggling to figure out the syntax"
   ]
  },
  {
   "cell_type": "code",
   "execution_count": null,
   "metadata": {
    "deletable": false,
    "nbgrader": {
     "cell_type": "code",
     "checksum": "baed08892b45d1890b53e5a54399a99b",
     "grade": false,
     "grade_id": "cell-4f443afae517bca7",
     "locked": false,
     "schema_version": 3,
     "solution": true,
     "task": false
    }
   },
   "outputs": [],
   "source": [
    "# YOUR CODE HERE\n",
    "raise NotImplementedError()\n",
    "\n",
    "# look at output\n",
    "sugar_summary"
   ]
  },
  {
   "cell_type": "code",
   "execution_count": null,
   "metadata": {
    "deletable": false,
    "editable": false,
    "nbgrader": {
     "cell_type": "code",
     "checksum": "97f3f092caa57da9e656fd12c8416ef9",
     "grade": true,
     "grade_id": "cell-64a031270c0f5741",
     "locked": true,
     "points": 0.25,
     "schema_version": 3,
     "solution": false,
     "task": false
    }
   },
   "outputs": [],
   "source": [
    "assert type(sugar_summary) == pd.DataFrame\n",
    "assert sugar_summary.index.name == 'fruity'\n",
    "assert 'min' in [j for i in sugar_summary.columns for j in i] and len(sugar_summary.columns) == 3 or 'min' in sugar_summary.columns"
   ]
  },
  {
   "cell_type": "markdown",
   "metadata": {
    "deletable": false,
    "editable": false,
    "nbgrader": {
     "cell_type": "markdown",
     "checksum": "6ab49d6e6b6fad609e1a627a5860d07a",
     "grade": false,
     "grade_id": "cell-0674e95a5c18c9b3",
     "locked": true,
     "schema_version": 3,
     "solution": false,
     "task": false
    }
   },
   "source": [
    "### Q6c: Sugar Interpretation (0.25 points)\n",
    "Looking at the output in Q9b and considering what you know about the dataset thus far, which type of candy has the higher average sugar percentile, fruity candy or non-fruity candy? Store your response in candy_sugar. For example, if you thought the answer was A, you would submit candy_sugar = 'A'.\n",
    "\n",
    "- A) non-fruity candy has the higher average sugar percentile\n",
    "- B) fruty candy has higher average sugar percentile\n",
    "- C) non-fruity and fruity have the same average sugar percentile"
   ]
  },
  {
   "cell_type": "code",
   "execution_count": null,
   "metadata": {
    "deletable": false,
    "nbgrader": {
     "cell_type": "code",
     "checksum": "3836df2ad8a6375a519bf526a44308f6",
     "grade": false,
     "grade_id": "cell-6f4882bb9714dcf0",
     "locked": false,
     "schema_version": 3,
     "solution": true,
     "task": false
    }
   },
   "outputs": [],
   "source": [
    "# YOUR CODE HERE\n",
    "raise NotImplementedError()"
   ]
  },
  {
   "cell_type": "code",
   "execution_count": null,
   "metadata": {
    "deletable": false,
    "editable": false,
    "nbgrader": {
     "cell_type": "code",
     "checksum": "6f585c13e319f74ae098971a5fb1b90b",
     "grade": true,
     "grade_id": "cell-ce659911f405a669",
     "locked": true,
     "points": 0.25,
     "schema_version": 3,
     "solution": false,
     "task": false
    }
   },
   "outputs": [],
   "source": [
    "assert isinstance(candy_sugar, str)\n"
   ]
  },
  {
   "cell_type": "markdown",
   "metadata": {
    "deletable": false,
    "editable": false,
    "nbgrader": {
     "cell_type": "markdown",
     "checksum": "1046654d8215e4751ba54b5db91f8036",
     "grade": false,
     "grade_id": "cell-ae0c164dc69eb318",
     "locked": true,
     "schema_version": 3,
     "solution": false,
     "task": false
    }
   },
   "source": [
    "## Q7: Column Operations "
   ]
  },
  {
   "cell_type": "markdown",
   "metadata": {
    "deletable": false,
    "editable": false,
    "nbgrader": {
     "cell_type": "markdown",
     "checksum": "27a977594cf1ca4c9cf4126203a9ad50",
     "grade": false,
     "grade_id": "cell-ab60d89cef46dddf",
     "locked": true,
     "schema_version": 3,
     "solution": false,
     "task": false
    }
   },
   "source": [
    "Regardless of the dataset you're working with, you'll want to be *very* familiar with a few common data manipulations when wrangling data, each of which is described below:\n",
    "\n",
    "Manipulation | Description\n",
    "-------|------------\n",
    "**select** | select which columns to include in dataset\n",
    "**filter** | filter dataset to only include specified rows\n",
    "**mutate** | add a new column based on values in other columns\n",
    "**groupby** | group values to apply a function within the specified groups\n",
    "**summarize** | calculate specified summary metric of a specified variable\n",
    "**arrange** | sort rows ascending or descending order of a specified column\n",
    "**merge** | join separate datasets into a single dataset based on a common column\n",
    "\n",
    "We'll review how to carry out each of these in `pandas` and you'll get practice with each. First, let's load in a new dataset."
   ]
  },
  {
   "cell_type": "markdown",
   "metadata": {
    "deletable": false,
    "editable": false,
    "nbgrader": {
     "cell_type": "markdown",
     "checksum": "7bba385b27c2bc507313331129541469",
     "grade": false,
     "grade_id": "cell-2db160b4f359b5dc",
     "locked": true,
     "schema_version": 3,
     "solution": false,
     "task": false
    }
   },
   "source": [
    "**For this part, we will be working with the same dataset from D2. Load in the CSV file at the URL:** https://raw.githubusercontent.com/fivethirtyeight/data/master/steak-survey/steak-risk-survey.csv **Assign the resulting dataframe to the variable 'data'.**"
   ]
  },
  {
   "cell_type": "code",
   "execution_count": null,
   "metadata": {
    "deletable": false,
    "nbgrader": {
     "cell_type": "code",
     "checksum": "9b9665d35292f232692e8784e664e9b0",
     "grade": false,
     "grade_id": "cell-37f8a22aa5bb0382",
     "locked": false,
     "schema_version": 3,
     "solution": true,
     "task": false
    }
   },
   "outputs": [],
   "source": [
    "# YOUR CODE HERE\n",
    "raise NotImplementedError()"
   ]
  },
  {
   "cell_type": "code",
   "execution_count": null,
   "metadata": {
    "deletable": false,
    "editable": false,
    "nbgrader": {
     "cell_type": "code",
     "checksum": "a14acbbe623986b7d2591725bc769b87",
     "grade": true,
     "grade_id": "cell-f959a65d4292411c",
     "locked": true,
     "points": 0,
     "schema_version": 3,
     "solution": false,
     "task": false
    }
   },
   "outputs": [],
   "source": [
    "assert isinstance(data, pd.DataFrame)\n",
    "assert data.shape == (551, 15)"
   ]
  },
  {
   "cell_type": "markdown",
   "metadata": {
    "deletable": false,
    "editable": false,
    "nbgrader": {
     "cell_type": "markdown",
     "checksum": "4f12fa096243c20168d718969cd5c599",
     "grade": false,
     "grade_id": "cell-2b856ef880473cb5",
     "locked": true,
     "schema_version": 3,
     "solution": false,
     "task": false
    }
   },
   "source": [
    "Let's take a look at the data to remind ourselves what we are working with."
   ]
  },
  {
   "cell_type": "code",
   "execution_count": null,
   "metadata": {
    "deletable": false,
    "editable": false,
    "nbgrader": {
     "cell_type": "code",
     "checksum": "fb0f9caeac4c392046efbbece39b1e41",
     "grade": false,
     "grade_id": "cell-1ff14a95aa7c08b8",
     "locked": true,
     "schema_version": 3,
     "solution": false,
     "task": false
    }
   },
   "outputs": [],
   "source": [
    "data"
   ]
  },
  {
   "cell_type": "markdown",
   "metadata": {
    "deletable": false,
    "editable": false,
    "nbgrader": {
     "cell_type": "markdown",
     "checksum": "b689c4a6f2fa3cf6948bf3486178414f",
     "grade": false,
     "grade_id": "cell-cc1e1410e07e8635",
     "locked": true,
     "schema_version": 3,
     "solution": false,
     "task": false
    }
   },
   "source": [
    "Often we're only interested in working with some columns in a larger dataset and it's helpful to filter the dataset so that it only includes the columns we want. In these cases, we *select* the columns we're interested in by specifying these columns and returning the output.\n",
    "\n",
    "In pandas, there are a number of ways in which this can be done, but the most common is to specify a list of columns you want by name and in the order you want.\n",
    "\n",
    "For example, for a dataframe (`df`) with five columns ('A', 'B', 'C', 'D', 'E'), you could select columns 'C', 'B' and 'A' (in that order), using the following:\n",
    "\n",
    "```python\n",
    "df[['C', 'B', 'A']]\n",
    "```"
   ]
  },
  {
   "cell_type": "markdown",
   "metadata": {
    "deletable": false,
    "editable": false,
    "nbgrader": {
     "cell_type": "markdown",
     "checksum": "43b30db18f71f8a88f75c1ab6e4eae38",
     "grade": false,
     "grade_id": "cell-42e7c5fbadba20a2",
     "locked": true,
     "schema_version": 3,
     "solution": false,
     "task": false
    }
   },
   "source": [
    "**Run the following cell to clean up our new dataframe.** Similarly to D2, we will 1) remove some undesirable rows and columns, 2) rename them to a shorter form, and 3) remove rows that contain all missing data."
   ]
  },
  {
   "cell_type": "code",
   "execution_count": null,
   "metadata": {
    "deletable": false,
    "editable": false,
    "nbgrader": {
     "cell_type": "code",
     "checksum": "4e5f06f258ca497ecb3377a5fffbc15c",
     "grade": false,
     "grade_id": "cell-2b8ae8708f6471ee",
     "locked": true,
     "schema_version": 3,
     "solution": false,
     "task": false
    }
   },
   "outputs": [],
   "source": [
    "#drop first two columns and first row \n",
    "data = data.iloc[1:,2:]\n",
    "\n",
    "#rename columns\n",
    "data.columns = ['smoking','alcohol','gambling',\n",
    " 'skydiving','speeding', 'cheated',\n",
    " 'steak', 'steak_preference','gender',\n",
    " 'age', 'income', 'education', 'region']\n",
    "\n",
    "#drops NaNs\n",
    "data = data.dropna(how='all')"
   ]
  },
  {
   "cell_type": "markdown",
   "metadata": {
    "deletable": false,
    "editable": false,
    "nbgrader": {
     "cell_type": "markdown",
     "checksum": "7b29cf962ed8b7c3e2a24d5fc6628c7e",
     "grade": false,
     "grade_id": "cell-10fbdf8509a230f7",
     "locked": true,
     "schema_version": 3,
     "solution": false,
     "task": false
    }
   },
   "source": [
    "## Q7a: Selecting columns and reordering columns (0.25 points)\n",
    "\n",
    "For our risk behavior dataset, we're ultimately interested in determining the relationship between various risk-taking behaviors and demographic characteristics.\n",
    "\n",
    "To get just the data we're interested in, return a DataFrame with the columns (in this exact order):\n",
    "gambling, skydiving, speeding, cheated, age, income, education, and region.\n",
    "\n",
    "Store this output in `data` (overwriting the previous data stored in `data`)."
   ]
  },
  {
   "cell_type": "code",
   "execution_count": null,
   "metadata": {
    "deletable": false,
    "nbgrader": {
     "cell_type": "code",
     "checksum": "bbcd6353487d444a238aff1ae03d3f55",
     "grade": false,
     "grade_id": "cell-1af92717790016eb",
     "locked": false,
     "schema_version": 3,
     "solution": true,
     "task": false
    }
   },
   "outputs": [],
   "source": [
    "# YOUR CODE HERE\n",
    "raise NotImplementedError()"
   ]
  },
  {
   "cell_type": "code",
   "execution_count": null,
   "metadata": {
    "deletable": false,
    "editable": false,
    "nbgrader": {
     "cell_type": "code",
     "checksum": "f3291d5391e54a1a1d853d863e1ec546",
     "grade": true,
     "grade_id": "cell-4cd0a94131c943cb",
     "locked": true,
     "points": 0.25,
     "schema_version": 3,
     "solution": false,
     "task": false
    }
   },
   "outputs": [],
   "source": [
    "assert data.shape == (541, 8)"
   ]
  },
  {
   "cell_type": "code",
   "execution_count": null,
   "metadata": {
    "deletable": false,
    "editable": false,
    "nbgrader": {
     "cell_type": "code",
     "checksum": "a0c1c25882f4f9b13de37f758bdd2c72",
     "grade": false,
     "grade_id": "cell-8793c333b83452aa",
     "locked": true,
     "schema_version": 3,
     "solution": false,
     "task": false
    }
   },
   "outputs": [],
   "source": [
    "data"
   ]
  },
  {
   "cell_type": "markdown",
   "metadata": {
    "deletable": false,
    "editable": false,
    "nbgrader": {
     "cell_type": "markdown",
     "checksum": "51f388da0b0283b3d2d321d7b44c7a9f",
     "grade": false,
     "grade_id": "cell-7560ae01b27bbd97",
     "locked": true,
     "schema_version": 3,
     "solution": false,
     "task": false
    }
   },
   "source": [
    "### Q7b: Adding new columns (0.25)\n",
    "\n",
    "Often, when working with data, we need to add additional columns *that use information from existing columns*.\n",
    "\n",
    "To do this, we typically use one of two approaches, summarized generally here.  If, e.g. we needed a new column with the name 'new_col' where each row was a constant value muliplied by the corresponding row of 'col'... then we could equivalently use either of these:\n",
    "\n",
    "1. using the method `assign()` \n",
    "```python\n",
    "df = df.assign(new_col = df['col'] * val)\n",
    "```\n",
    "2. using the new column name on the left-hand side of the equals sign\n",
    "```python\n",
    "df['new_col'] = df[col] * val\n",
    "```\n",
    "\n",
    "In our risk behavior dataset, we want to explore whether individuals engage in multiple types of risky behavior — specifically, gambling and speeding. We’ll create a new column called 'risk_combo' that **counts** the number of these two behaviors each person reports. So this could look something like\n",
    "\n",
    "| gambling | speeding | risk_combo |\n",
    "|----------|----------|------------| \n",
    "|   Yes    |  Yes     |  2         |\n",
    "|   Yes    |  No      |  1         |\n",
    "|   No     |  Yes     |   1        |\n",
    "|   No     |  No      |  0         |\n",
    "\n",
    "To do this, think about how you could:\n",
    "- Compare the entries in the gambling and speeding columns to \"Yes\",\n",
    "- Combine those results across each row,\n",
    "- And use .assign() to store that result as a new column called 'risk_combo'.\n",
    "\n",
    "(Hint: you may find it useful to select both columns together, check if they equal \"Yes\", and then use a method that adds up the True values across each row.)"
   ]
  },
  {
   "cell_type": "code",
   "execution_count": null,
   "metadata": {
    "deletable": false,
    "nbgrader": {
     "cell_type": "code",
     "checksum": "0929998740b444be07f18167a20981d6",
     "grade": false,
     "grade_id": "cell-2dede0f89f09017a",
     "locked": false,
     "schema_version": 3,
     "solution": true,
     "task": false
    }
   },
   "outputs": [],
   "source": [
    "# YOUR CODE HERE\n",
    "raise NotImplementedError()"
   ]
  },
  {
   "cell_type": "code",
   "execution_count": null,
   "metadata": {
    "deletable": false,
    "editable": false,
    "nbgrader": {
     "cell_type": "code",
     "checksum": "ed5d01154f19781b755e53296ce8bb59",
     "grade": true,
     "grade_id": "cell-e5db3e8d704701b3",
     "locked": true,
     "points": 0.25,
     "schema_version": 3,
     "solution": false,
     "task": false
    }
   },
   "outputs": [],
   "source": [
    "# Do not edit this cell. This cell is for testing purposes"
   ]
  },
  {
   "cell_type": "markdown",
   "metadata": {
    "deletable": false,
    "editable": false,
    "nbgrader": {
     "cell_type": "markdown",
     "checksum": "f5a9abf2dc13fffd7a2cc77757c85ee4",
     "grade": false,
     "grade_id": "cell-e2053971ffa467ff",
     "locked": true,
     "schema_version": 3,
     "solution": false,
     "task": false
    }
   },
   "source": [
    "### Data Types\n",
    "\n",
    "Lets inspect the different data types present in the DataFrame 'data' to understand which columns contain text responses"
   ]
  },
  {
   "cell_type": "code",
   "execution_count": null,
   "metadata": {
    "deletable": false,
    "nbgrader": {
     "cell_type": "code",
     "checksum": "91aaffbeea17e6e2a1e736f9b6b6dbec",
     "grade": false,
     "grade_id": "cell-b8a44349c3510826",
     "locked": false,
     "schema_version": 3,
     "solution": true,
     "task": false
    }
   },
   "outputs": [],
   "source": [
    "# YOUR CODE HERE\n",
    "raise NotImplementedError()"
   ]
  },
  {
   "cell_type": "markdown",
   "metadata": {
    "deletable": false,
    "editable": false,
    "nbgrader": {
     "cell_type": "markdown",
     "checksum": "d2a35a9d5fcf39adc8c60f4790839c9b",
     "grade": false,
     "grade_id": "cell-e5b72118a3fdc7cb",
     "locked": true,
     "schema_version": 3,
     "solution": false,
     "task": false
    }
   },
   "source": [
    "Everything here is of type object...  in python an object is the most generic kind of variable.  Basically everything is an object in this language. Frequently (but not always!) in tabular data it means this column is a text column of type 'str'\n",
    "\n",
    "If, for instance, one of these variables held numbers then it would have a type like int or float or similar"
   ]
  },
  {
   "cell_type": "markdown",
   "metadata": {
    "deletable": false,
    "editable": false,
    "nbgrader": {
     "cell_type": "markdown",
     "checksum": "86c387ba7c8c0b04bd2d1fe0a7756488",
     "grade": false,
     "grade_id": "cell-b8d2841374505fb8",
     "locked": true,
     "schema_version": 3,
     "solution": false,
     "task": false
    }
   },
   "source": [
    "**Oh no! Why would our data still contain variables like 'age' and 'income', which appears to be numeric?** That’s because, in this dataset, both age and income are stored as categorical strings — representing ranges (e.g., \"18–29\", \"30–44\", \"45–60\", \"> 60\") or as formatted text values (e.g., \"24,999\", \"99,999\") instead of true numeric data.\n",
    "\n",
    "To perform any meaningful numerical analysis (like correlations or averages), **we’ll need to convert these string ranges into numeric values.**"
   ]
  },
  {
   "cell_type": "markdown",
   "metadata": {
    "deletable": false,
    "editable": false,
    "nbgrader": {
     "cell_type": "markdown",
     "checksum": "de1de0982ccd1037d6bfea4e79184bda",
     "grade": false,
     "grade_id": "cell-d618d4a05dd657b7",
     "locked": true,
     "schema_version": 3,
     "solution": false,
     "task": false
    }
   },
   "source": [
    "## Q7c replace values (0.25 points)"
   ]
  },
  {
   "cell_type": "markdown",
   "metadata": {
    "deletable": false,
    "editable": false,
    "nbgrader": {
     "cell_type": "markdown",
     "checksum": "8be313e23bac32c69a47124f0bad57ae",
     "grade": false,
     "grade_id": "cell-c5ff5cb8274e8285",
     "locked": true,
     "schema_version": 3,
     "solution": false,
     "task": false
    }
   },
   "source": [
    "We'll be working with the variable `age`. Let's replace the age ranges with numeric midpoint values using `replace()`. The numeric values will be stored in a new column called `age_numeric`. \n",
    "\n",
    "`replace()`can take a dictionary as an argument that maps old values to new values. `replace()` doesn't operate on the original; it creates a copy of the series or dataframe. So if you want to keep your hard work you must assign the output to a variable.\n",
    "\n",
    "Create a dictionary named `age_map` that maps the age ranges to representative midpoint values. Use the following values in your `age_map` replace the age range strings in our dataset: \n",
    "- '18-29': 24\n",
    "- '30-44': 37\n",
    "- '45-60': 52\n",
    "- '> 60': 65\n",
    "\n",
    "Its important to note that we are mapping from a text variable to a numeric value.  That means each map element needs to be a string on the left side (dictionary key) and an integer on the right side (dictionary value)\n",
    "\n",
    "Assign the outcome or your operations here to a new column called `age_numeric` in the `data` dataframe"
   ]
  },
  {
   "cell_type": "code",
   "execution_count": null,
   "metadata": {
    "deletable": false,
    "nbgrader": {
     "cell_type": "code",
     "checksum": "000dab11e2aae25806b8820b8d269637",
     "grade": false,
     "grade_id": "cell-aa97c384da457265",
     "locked": false,
     "schema_version": 3,
     "solution": true,
     "task": false
    }
   },
   "outputs": [],
   "source": [
    "# YOUR CODE HERE\n",
    "raise NotImplementedError()"
   ]
  },
  {
   "cell_type": "code",
   "execution_count": null,
   "metadata": {
    "deletable": false,
    "editable": false,
    "nbgrader": {
     "cell_type": "code",
     "checksum": "acb72e6ffba5071b10d04dc6ba1eb4e0",
     "grade": true,
     "grade_id": "cell-4e25ba6b7b2eb549",
     "locked": true,
     "points": 0.25,
     "schema_version": 3,
     "solution": false,
     "task": false
    }
   },
   "outputs": [],
   "source": [
    "assert \"age_numeric\" in data.columns\n",
    "assert np.issubdtype(data[\"age_numeric\"].dtype, np.number)"
   ]
  },
  {
   "cell_type": "markdown",
   "metadata": {
    "deletable": false,
    "editable": false,
    "nbgrader": {
     "cell_type": "markdown",
     "checksum": "9f9cd11a5668be7768c29e839d8e8937",
     "grade": false,
     "grade_id": "cell-c37e483dbf90514f",
     "locked": true,
     "schema_version": 3,
     "solution": false,
     "task": false
    }
   },
   "source": [
    "### Q7d: neither (0.25 points)\n",
    "\n",
    "Take a look at your risk_combo column. How many individuals engage in neither gambling nor speeding?\n",
    "\n",
    "In other words, how many rows have risk_combo == 0?\n",
    "\n",
    "Store this value in the variable neither."
   ]
  },
  {
   "cell_type": "code",
   "execution_count": null,
   "metadata": {
    "deletable": false,
    "nbgrader": {
     "cell_type": "code",
     "checksum": "06cb441f03941133323c29ad7f08723f",
     "grade": false,
     "grade_id": "cell-73e52457ca151b02",
     "locked": false,
     "schema_version": 3,
     "solution": true,
     "task": false
    }
   },
   "outputs": [],
   "source": [
    "# YOUR CODE HERE\n",
    "raise NotImplementedError()"
   ]
  },
  {
   "cell_type": "code",
   "execution_count": null,
   "metadata": {
    "deletable": false,
    "editable": false,
    "nbgrader": {
     "cell_type": "code",
     "checksum": "735e1de53042dc957901cbf18099e8ac",
     "grade": true,
     "grade_id": "cell-0fba50f0683cd07d",
     "locked": true,
     "points": 0.25,
     "schema_version": 3,
     "solution": false,
     "task": false
    }
   },
   "outputs": [],
   "source": [
    "print(neither)\n",
    "assert neither >= 0 and neither <= len(data)\n"
   ]
  },
  {
   "cell_type": "markdown",
   "metadata": {
    "deletable": false,
    "editable": false,
    "nbgrader": {
     "cell_type": "markdown",
     "checksum": "99d10d7edfd692c37a1a88a1e2e8fc19",
     "grade": false,
     "grade_id": "cell-d5fdbd614d42d702",
     "locked": true,
     "schema_version": 3,
     "solution": false,
     "task": false
    }
   },
   "source": [
    "## Q8: Row Operations \n",
    "\n",
    "In addition to column operations, filtering rows to only include those of interest to your analysis can be very important. For example, in our risk behavior dataset, we might only want to analyze individuals who engage in at least one risky behavior (gambling or speeding).\n",
    "\n",
    "To do this, we have to *filter* the data, using **slicing**."
   ]
  },
  {
   "cell_type": "markdown",
   "metadata": {
    "deletable": false,
    "editable": false,
    "nbgrader": {
     "cell_type": "markdown",
     "checksum": "c4bba671c54b462a485d8a307204a1e7",
     "grade": false,
     "grade_id": "cell-2e37bcb34f549d74",
     "locked": true,
     "schema_version": 3,
     "solution": false,
     "task": false
    }
   },
   "source": [
    "### slicing:  `loc` and `iloc`\n",
    "\n",
    "Subsets of data from a DataFrame can also be extracted through the use of slicing. There are two general approaches to slicing:\n",
    "\n",
    "Manipulation | Description\n",
    "-------|------------\n",
    "`loc` | label-based indexing \n",
    "`iloc` | integer-based indexing\n",
    "\n",
    "\n",
    "For example, if we had a dataframe like: \n",
    " **Index**| **A** | **B** | **C**\n",
    "----| --- | ---- | ---\n",
    "**Al** | 1 | 2 | 3\n",
    "**Bob** | 3 | 4 | 5\n",
    "**Cat** | 6 | 7 | 8\n",
    "\n",
    "You could use `loc`: \n",
    "\n",
    "```python\n",
    "df.loc['Al':'Bob', ['A', 'B']]\n",
    "```\n",
    "\n",
    "This would return the first two rows and the two columns  `['A', 'B']`, ie\n",
    "\n",
    " **Index**| **A** | **B** \n",
    "----| --- | ---- \n",
    "**Al** | 1 | 2 \n",
    "**Bob** | 3 | 4 \n",
    "\n",
    "We can also pass in a *conditional statement* to `loc`, and this operation will return a dataframe only with the rows that satisfy this condition.\n",
    "\n",
    "Alternatively, integer-based indexing could be used with `iloc` (where the `i` stands for index):\n",
    "\n",
    "```python\n",
    "df.iloc[0:5, 0:3]\n",
    "```\n",
    "\n",
    "This would return the first five rows and first THREE columns of the dataframe `df`. (As a reminder: when indicating ranges in Python, the final value is not included in what is returned. So, this returns the zero-th through the 4th indices. Index 5 is not included in the output)\n",
    "\n",
    "Python also uses *zero-based indexing* which means the first element is indexed as zero, the second has index 1, and so on."
   ]
  },
  {
   "cell_type": "markdown",
   "metadata": {
    "deletable": false,
    "editable": false,
    "nbgrader": {
     "cell_type": "markdown",
     "checksum": "32c60ea533e5fd0db34be30b7419136b",
     "grade": false,
     "grade_id": "cell-2adedc6ef70821c5",
     "locked": true,
     "schema_version": 3,
     "solution": false,
     "task": false
    }
   },
   "source": [
    "### Q8a: Slicing (0.25 points)\n",
    "\n",
    "The concept of slicing can be combined with conditional statements to select only the rows that meet a certain criterion.\n",
    "\n",
    "How many individuals engage in BOTH gambling AND speeding? \n",
    "\n",
    "\n",
    "So we have to identify all the dual gambling/speeding people. Let's place them in a datafram called `both`. \n",
    "\n",
    "Let’s figure out which region the first such individual is from. To do this we need to slice `both` to get just the first person in it and just their region.  Place that string in the variable `region_name`\n"
   ]
  },
  {
   "cell_type": "code",
   "execution_count": null,
   "metadata": {
    "deletable": false,
    "nbgrader": {
     "cell_type": "code",
     "checksum": "f95cbbf1a486c96e3f8aec05905e5ab5",
     "grade": false,
     "grade_id": "cell-3b770e4a0e2b84e1",
     "locked": false,
     "schema_version": 3,
     "solution": true,
     "task": false
    }
   },
   "outputs": [],
   "source": [
    "# YOUR CODE HERE\n",
    "raise NotImplementedError()"
   ]
  },
  {
   "cell_type": "code",
   "execution_count": null,
   "metadata": {
    "deletable": false,
    "editable": false,
    "nbgrader": {
     "cell_type": "code",
     "checksum": "554bc197f6bb39c501b7d5b3a52ce889",
     "grade": true,
     "grade_id": "cell-153ac11204d89dd8",
     "locked": true,
     "points": 0.25,
     "schema_version": 3,
     "solution": false,
     "task": false
    }
   },
   "outputs": [],
   "source": [
    "assert isinstance(region_name, str)\n",
    "assert type(both) == pd.DataFrame\n",
    "assert both.shape[0] == 237\n"
   ]
  },
  {
   "cell_type": "markdown",
   "metadata": {
    "deletable": false,
    "editable": false,
    "nbgrader": {
     "cell_type": "markdown",
     "checksum": "7c073d476daf32b1786a5c4963eb5a72",
     "grade": false,
     "grade_id": "cell-f8b9aef38aae8239",
     "locked": true,
     "schema_version": 3,
     "solution": false,
     "task": false
    }
   },
   "source": [
    "### Q8b: Filtering (0.25 points)\n",
    "\n",
    "Using the concept of slicing with conditionals, filter the DataFrame `data` to only include rows where the individual engages in at least one risky behavior:\n",
    "\n",
    "This includes anyone who gambles, speeds, OR does both.\n",
    "\n",
    "Store this filtered DataFrame back in `data`."
   ]
  },
  {
   "cell_type": "code",
   "execution_count": null,
   "metadata": {
    "deletable": false,
    "nbgrader": {
     "cell_type": "code",
     "checksum": "37f63510d06fa5bc52d1790c773d9cc6",
     "grade": false,
     "grade_id": "cell-f103daaf49474dc4",
     "locked": false,
     "schema_version": 3,
     "solution": true,
     "task": false
    }
   },
   "outputs": [],
   "source": [
    "# YOUR CODE HERE\n",
    "raise NotImplementedError()"
   ]
  },
  {
   "cell_type": "code",
   "execution_count": null,
   "metadata": {
    "deletable": false,
    "editable": false,
    "nbgrader": {
     "cell_type": "code",
     "checksum": "1c520219c53432b4e24f608a9a6233f6",
     "grade": true,
     "grade_id": "cell-ea59146dbcf1d259",
     "locked": true,
     "points": 0.25,
     "schema_version": 3,
     "solution": false,
     "task": false
    }
   },
   "outputs": [],
   "source": [
    "assert data.shape[0] == 500\n",
    "assert ((data['gambling'] == \"Yes\") | (data['speeding'] == \"Yes\")).all()"
   ]
  },
  {
   "cell_type": "markdown",
   "metadata": {
    "deletable": false,
    "editable": false,
    "nbgrader": {
     "cell_type": "markdown",
     "checksum": "9ab48948d7bcaa63fd103cdc13477b32",
     "grade": false,
     "grade_id": "cell-e9636dd2b27065cf",
     "locked": true,
     "schema_version": 3,
     "solution": false,
     "task": false
    }
   },
   "source": [
    "## Q9: arrange rows\n",
    "\n",
    "While you don't always care about what order the rows are sorted, at times it can be helpful to sort a DataFrame so that the rows are ordered in a particular manner.\n",
    "\n",
    "To do this, `sort_values` can be very helpful. For example, to sort by the values in 'col', you would use the following:\n",
    "\n",
    "```python\n",
    "df.sort_values(by=['col'])\n",
    "```\n",
    "\n",
    "To arrange (sort) the rows by more than one column, the syntax changes slightly:\n",
    "\n",
    "```python\n",
    "df.sort_values(by=['col1', 'col2'])\n",
    "```"
   ]
  },
  {
   "cell_type": "markdown",
   "metadata": {
    "deletable": false,
    "editable": false,
    "nbgrader": {
     "cell_type": "markdown",
     "checksum": "b27100bff5ea00d7aefc3464fdd2ce91",
     "grade": false,
     "grade_id": "cell-1d5cd13e0ac08aa2",
     "locked": true,
     "schema_version": 3,
     "solution": false,
     "task": false
    }
   },
   "source": [
    "### Q9a: `sort_values` (0.25 points)\n",
    "\n",
    "Suppose we want to know which individuals are oldest in our dataset.\n",
    "\n",
    "**Sort the rows in data** such that the individual with the highest age is displayed first and the lowest age last.\n",
    "\n",
    "Store the sorted DataFrame back in `data`.\n",
    "\n",
    "Reset the index so that the oldest individual becomes index 0."
   ]
  },
  {
   "cell_type": "code",
   "execution_count": null,
   "metadata": {
    "deletable": false,
    "nbgrader": {
     "cell_type": "code",
     "checksum": "254fad341ac8900d6623e3943d165ede",
     "grade": false,
     "grade_id": "cell-df2dae19d7386525",
     "locked": false,
     "schema_version": 3,
     "solution": true,
     "task": false
    }
   },
   "outputs": [],
   "source": [
    "# YOUR CODE HERE\n",
    "raise NotImplementedError()"
   ]
  },
  {
   "cell_type": "code",
   "execution_count": null,
   "metadata": {
    "deletable": false,
    "editable": false,
    "nbgrader": {
     "cell_type": "code",
     "checksum": "07681eff60cca5dd3989beb543d2789f",
     "grade": true,
     "grade_id": "cell-9330a97562f3a48c",
     "locked": true,
     "points": 0.25,
     "schema_version": 3,
     "solution": false,
     "task": false
    }
   },
   "outputs": [],
   "source": [
    "# Do not edit this cell. This cell is for testing purposes"
   ]
  },
  {
   "cell_type": "markdown",
   "metadata": {
    "deletable": false,
    "editable": false,
    "nbgrader": {
     "cell_type": "markdown",
     "checksum": "75719bb10167cec107ffd0f10612518d",
     "grade": false,
     "grade_id": "cell-b709563be316715f",
     "locked": true,
     "schema_version": 3,
     "solution": false
    }
   },
   "source": [
    "## End of Assignment #1\n",
    "\n",
    "When you think you're done, verify that everything is working correctly by doing the following:\n",
    "1. Save this notebook\n",
    "2. Choose the pull down menu item Kernel -> Restart and Run All Cells\n",
    "3. Check that you see the print statement in the cell below. If you see that happy sunglasses face emoji, it means that you have passed all the publicly visible tests. Yay!!"
   ]
  },
  {
   "cell_type": "code",
   "execution_count": null,
   "metadata": {
    "deletable": false,
    "editable": false,
    "nbgrader": {
     "cell_type": "code",
     "checksum": "d058aff9caf57ca1caa5f38361685b26",
     "grade": false,
     "grade_id": "cell-ec74eb14b498a1a6",
     "locked": true,
     "schema_version": 3,
     "solution": false,
     "task": false
    }
   },
   "outputs": [],
   "source": [
    "print(\"\\N{SMILING FACE WITH SUNGLASSES}\")"
   ]
  }
 ],
 "metadata": {
  "anaconda-cloud": {},
  "kernelspec": {
   "display_name": "Python 3 (ipykernel)",
   "language": "python",
   "name": "python3"
  },
  "language_info": {
   "codemirror_mode": {
    "name": "ipython",
    "version": 3
   },
   "file_extension": ".py",
   "mimetype": "text/x-python",
   "name": "python",
   "nbconvert_exporter": "python",
   "pygments_lexer": "ipython3",
   "version": "3.11.9"
  }
 },
 "nbformat": 4,
 "nbformat_minor": 4
}
